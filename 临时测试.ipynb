{
 "cells": [
  {
   "cell_type": "markdown",
   "metadata": {},
   "source": [
    "判断当前操作系统"
   ]
  },
  {
   "cell_type": "code",
   "execution_count": 1,
   "metadata": {},
   "outputs": [
    {
     "name": "stdout",
     "output_type": "stream",
     "text": [
      "Windows\n"
     ]
    }
   ],
   "source": [
    "import platform\n",
    "print(platform.system())"
   ]
  },
  {
   "cell_type": "code",
   "execution_count": 7,
   "metadata": {},
   "outputs": [
    {
     "name": "stdout",
     "output_type": "stream",
     "text": [
      "E:\\gitsources\\my_development_notes\n",
      "E:\\gitsources\\my_development_notes\n",
      "E:\\gitsources\\my_development_notes\\test.txt\n",
      "E:\\gitsources\n",
      "E:\\gitsources\\my_development_notes\n"
     ]
    }
   ],
   "source": [
    "import os\n",
    "print (os.getcwd()) #获取当前工作目录路径\n",
    "print (os.path.abspath('.')) #获取当前工作目录路径\n",
    "print (os.path.abspath('test.txt')) #获取当前目录文件下的工作目录路径\n",
    "print (os.path.abspath('..')) #获取当前工作的父目录 ！注意是父目录路径\n",
    "print (os.path.abspath(os.curdir)) #获取当前工作目录路径"
   ]
  },
  {
   "cell_type": "code",
   "execution_count": 3,
   "metadata": {},
   "outputs": [
    {
     "name": "stdout",
     "output_type": "stream",
     "text": [
      "2019-05-15 10:15:35\n"
     ]
    }
   ],
   "source": [
    "import time\n",
    "print (time.strftime(\"%Y-%m-%d %H:%M:%S\", time.localtime()))"
   ]
  },
  {
   "cell_type": "code",
   "execution_count": null,
   "metadata": {},
   "outputs": [],
   "source": []
  }
 ],
 "metadata": {
  "kernelspec": {
   "display_name": "Python 3",
   "language": "python",
   "name": "python3"
  },
  "language_info": {
   "codemirror_mode": {
    "name": "ipython",
    "version": 3
   },
   "file_extension": ".py",
   "mimetype": "text/x-python",
   "name": "python",
   "nbconvert_exporter": "python",
   "pygments_lexer": "ipython3",
   "version": "3.7.3"
  }
 },
 "nbformat": 4,
 "nbformat_minor": 2
}
