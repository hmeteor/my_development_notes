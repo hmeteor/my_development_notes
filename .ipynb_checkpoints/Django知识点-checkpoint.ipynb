{
 "cells": [
  {
   "cell_type": "markdown",
   "metadata": {},
   "source": [
    "# Django初探\n",
    "创建项目\n",
    "\n",
    "`django-admin startproject rest_full_api`\n",
    "\n",
    "---\n",
    "\n",
    "若django-admin不是环境变量，又不知道路径，可以先查询\n",
    "\n",
    "`find / -name django-admin.py`\n",
    "\n",
    "![blockchain](images/find_django-admin.py.png \"查找django-admin\")\n",
    "\n",
    "如路径/usr/local/bin/python3/bin/django-admin.py\n",
    "\n",
    "再执行创建项目\n",
    "\n",
    "`/usr/local/bin/python3/bin/django-admin.py startproject rest_full_api`\n"
   ]
  },
  {
   "cell_type": "markdown",
   "metadata": {},
   "source": [
    "启动，用于开发的简易服务器"
   ]
  },
  {
   "cell_type": "code",
   "execution_count": null,
   "metadata": {},
   "outputs": [],
   "source": [
    "python manage.py runserver\n",
    "python manage.py runserver 0:8011 #指定ip端口访问"
   ]
  },
  {
   "cell_type": "markdown",
   "metadata": {},
   "source": [
    "创建应用\n",
    "\n",
    "`python manage.py startapp rest`\n",
    "\n",
    "或\n",
    "\n",
    "`django-admin.py startapp rest`"
   ]
  },
  {
   "cell_type": "code",
   "execution_count": null,
   "metadata": {},
   "outputs": [],
   "source": [
    "python manage.py createsuperuser #创建一个管理员账号"
   ]
  },
  {
   "cell_type": "markdown",
   "metadata": {},
   "source": [
    "激活"
   ]
  },
  {
   "cell_type": "code",
   "execution_count": null,
   "metadata": {},
   "outputs": [],
   "source": [
    "python manage.py makemigrations\n",
    "python manage.py migrate"
   ]
  },
  {
   "cell_type": "markdown",
   "metadata": {},
   "source": [
    "---\n",
    "解决跨域问题\n",
    "\n",
    "    在虚拟环境下安装 `pip install django-cors-headers`\n",
    "    修改setting.py\n",
    "    在INSTALLED_APPS添加'corsheaders'\n",
    "    在MIDDLEWARE添加'corsheaders.middleware.CorsMiddleware'\n",
    "    新增CORS_ORIGIN_ALLOW_ALL = True\n",
    "    \n",
    "![blockchain](images/Django跨域.png \"跨域\")\n"
   ]
  },
  {
   "cell_type": "markdown",
   "metadata": {},
   "source": [
    "创建超级用户"
   ]
  },
  {
   "cell_type": "code",
   "execution_count": null,
   "metadata": {},
   "outputs": [],
   "source": [
    "python manage.py createsuperuser"
   ]
  },
  {
   "cell_type": "markdown",
   "metadata": {},
   "source": [
    "---\n",
    "# Django中配置Gunicorn"
   ]
  },
  {
   "cell_type": "markdown",
   "metadata": {},
   "source": [
    "###  特点\n",
    "\n",
    "> Gunicorn是基于prefork模式的Python wsgi应用服务器，支持 Unix like的系统\n",
    "\n",
    "> 采用epoll (Linux下) 非阻塞网络I/O 模型\n",
    "\n",
    "> 多种Worker类型可以选择 同步的，基于事件的（gevent tornado等），基于多线程的\n",
    "\n",
    "> 高性能，比之uwsgi不相上下\n",
    "\n",
    "> 配置使用非常简单\n",
    "\n",
    "> 支持 Python 2.x >= 2.6 or Python 3.x >= 3.2\n"
   ]
  },
  {
   "cell_type": "markdown",
   "metadata": {},
   "source": [
    "### 安装\n",
    "\n",
    "`pip install gunicorn`"
   ]
  },
  {
   "cell_type": "markdown",
   "metadata": {},
   "source": [
    "### 配置\n",
    "- 在settings.py 的INSTALLED_APPS节点 添加 'gunicorn'\n",
    "\n",
    "- 新增gunicorn配置文件gunicorn.conf.py 如下所示"
   ]
  },
  {
   "cell_type": "code",
   "execution_count": null,
   "metadata": {},
   "outputs": [],
   "source": [
    "import logging\n",
    "import logging.handlers\n",
    "from logging.handlers import WatchedFileHandler\n",
    "import os\n",
    "import multiprocessing\n",
    "\n",
    "bind = \"0.0.0.0:8011\"  # 绑定的ip与端口\n",
    "backlog = 512  # 监听队列数量，64-2048\n",
    "# chdir = '/home/test/server/bin'  #gunicorn要切换到的目的工作目录\n",
    "worker_class = 'sync'  # 使用 gevent 模式，还可以使用sync 模式，默认的是sync模式\n",
    "workers = 4  # multiprocessing.cpu_count()    #进程数\n",
    "threads = 16  # multiprocessing.cpu_count()*4 #指定每个进程开启的线程数\n",
    "loglevel = 'info'  # 日志级别，这个日志级别指的是错误日志的级别，而访问日志的级别无法设置\n",
    "access_log_format = '%(t)s %(p)s %(h)s \"%(r)s\" %(s)s %(L)s %(b)s %(f)s\" \"%(a)s\"'\n",
    "\n",
    "# accesslog = \"/home/log/gunicorn_access.log\"      #访问日志文件\n",
    "# errorlog = \"/home/log/gunicorn_error.log\"        #错误日志文件\n",
    "accesslog = \"-\"  # 访问日志文件，\"-\" 表示标准输出\n",
    "errorlog = \"-\"  # 错误日志文件，\"-\" 表示标准输出\n",
    "\n",
    "proc_name = 'fof_api'  # 进程名\n"
   ]
  },
  {
   "cell_type": "markdown",
   "metadata": {},
   "source": [
    "其中access_log_format选项的变量含义如下：\n",
    "    \n",
    "    其每个选项的含义如下：\n",
    "    h          remote address\n",
    "    l          '-'\n",
    "    u          currently '-', may be user name in future releases\n",
    "    t          date of the request\n",
    "    r          status line (e.g. ``GET / HTTP/1.1``)\n",
    "    s          status\n",
    "    b          response length or '-'\n",
    "    f          referer\n",
    "    a          user agent\n",
    "    T          request time in seconds\n",
    "    D          request time in microseconds\n",
    "    L          request time in decimal seconds\n",
    "    p          process ID\n"
   ]
  },
  {
   "cell_type": "markdown",
   "metadata": {},
   "source": [
    "### 正常启动\n",
    "\n",
    "以gunicorn.conf.py配置文件启动gunicorn\n",
    "\n",
    "`gunicorn -c gunicorn.conf.py rest_full_api.wsgi:application`\n",
    "\n",
    "也可以直接启动\n",
    "\n",
    "`gunicorn rest_full_api.wsgi:application -b 0.0.0.0:8011 -w 4 -k gthread`\n",
    "\n",
    "> -w 4是启动4个进程，可以支持更多的并发。\n",
    "\n",
    "或者\n",
    "\n",
    "`gunicorn rest_full_api.wsgi:application -b 0.0.0.0:8011 -w 4 -k gthread  --thread 40 --max-requests 4096 --max-requests-jitter 512`"
   ]
  }
 ],
 "metadata": {
  "kernelspec": {
   "display_name": "Python 3",
   "language": "python",
   "name": "python3"
  },
  "language_info": {
   "codemirror_mode": {
    "name": "ipython",
    "version": 3
   },
   "file_extension": ".py",
   "mimetype": "text/x-python",
   "name": "python",
   "nbconvert_exporter": "python",
   "pygments_lexer": "ipython3",
   "version": "3.7.3"
  }
 },
 "nbformat": 4,
 "nbformat_minor": 2
}
