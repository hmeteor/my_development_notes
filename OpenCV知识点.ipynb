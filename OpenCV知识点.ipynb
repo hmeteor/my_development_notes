{
 "cells": [
  {
   "cell_type": "markdown",
   "metadata": {},
   "source": [
    "安装opencv-python"
   ]
  },
  {
   "cell_type": "markdown",
   "metadata": {},
   "source": [
    "pip3 install opencv-python"
   ]
  },
  {
   "cell_type": "markdown",
   "metadata": {},
   "source": [
    "测试opencv"
   ]
  },
  {
   "cell_type": "code",
   "execution_count": null,
   "metadata": {},
   "outputs": [],
   "source": [
    "python3 #进入解析器"
   ]
  },
  {
   "cell_type": "code",
   "execution_count": 10,
   "metadata": {},
   "outputs": [
    {
     "data": {
      "text/plain": [
       "'4.1.0'"
      ]
     },
     "execution_count": 10,
     "metadata": {},
     "output_type": "execute_result"
    }
   ],
   "source": [
    "import cv2\n",
    "cv2.__version__"
   ]
  },
  {
   "cell_type": "markdown",
   "metadata": {},
   "source": [
    "import cv2可能提示错误：\n",
    "\n",
    "ImportError: libSM.so.6: cannot open shared object file: No such file or directory\n",
    "\n",
    "ImportError: libXext.so.6: cannot open shared object file: No such file or directory\n",
    "\n",
    "---\n",
    "输入以下命令查询相关包\n",
    "\n",
    "`yum whatprovides libSM.so.6`\n",
    "\n",
    "![blockchain](images/libSM.so.6.png \"查找libSM.so.6\")\n",
    "\n",
    "然后安装\n",
    "\n",
    "`sudo yum install libSM-1.2.2-2.el7.x86_64 --setopt=protected_multilib=false `\n",
    "\n",
    "---\n",
    "libXext.so.6同样流程\n",
    "\n",
    "`yum whatprovides libXext.so.6`\n",
    "\n",
    "![blockchain](images/libXext.so.6.png \"查找libXext.so.6\")\n",
    "\n",
    "`sudo yum install libXext-1.3.3-3.el7.x86_64 --setopt=protected_multilib=false`"
   ]
  },
  {
   "cell_type": "markdown",
   "metadata": {},
   "source": []
  }
 ],
 "metadata": {
  "kernelspec": {
   "display_name": "Python 3",
   "language": "python",
   "name": "python3"
  },
  "language_info": {
   "codemirror_mode": {
    "name": "ipython",
    "version": 3
   },
   "file_extension": ".py",
   "mimetype": "text/x-python",
   "name": "python",
   "nbconvert_exporter": "python",
   "pygments_lexer": "ipython3",
   "version": "3.7.3"
  }
 },
 "nbformat": 4,
 "nbformat_minor": 2
}
